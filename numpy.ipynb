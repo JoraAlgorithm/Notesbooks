{
 "cells": [
  {
   "cell_type": "code",
   "execution_count": 1,
   "id": "19c376ea",
   "metadata": {},
   "outputs": [],
   "source": [
    "import numpy as np"
   ]
  },
  {
   "cell_type": "code",
   "execution_count": 3,
   "id": "1d200579",
   "metadata": {},
   "outputs": [],
   "source": [
    "X=np.array([[200,220,250],\n",
    "         [68,79,105],\n",
    "        [110,140,180],\n",
    "          [80,85,90]\n",
    "         ])"
   ]
  },
  {
   "cell_type": "code",
   "execution_count": 6,
   "id": "d00bdea6",
   "metadata": {},
   "outputs": [
    {
     "data": {
      "text/plain": [
       "array([[15000, 16500, 18750],\n",
       "       [ 5100,  5925,  7875],\n",
       "       [ 8250, 10500, 13500],\n",
       "       [ 6000,  6375,  6750]])"
      ]
     },
     "execution_count": 6,
     "metadata": {},
     "output_type": "execute_result"
    }
   ],
   "source": [
    "X*75"
   ]
  },
  {
   "cell_type": "code",
   "execution_count": null,
   "id": "03bc8f10",
   "metadata": {},
   "outputs": [],
   "source": []
  },
  {
   "cell_type": "code",
   "execution_count": 8,
   "id": "672b4f06",
   "metadata": {},
   "outputs": [],
   "source": [
    "X = np.array([\n",
    "    [50,60,25],\n",
    "    [10,13,5],\n",
    "    [40,70,52]\n",
    "])"
   ]
  },
  {
   "cell_type": "code",
   "execution_count": 28,
   "id": "52ad23a7",
   "metadata": {},
   "outputs": [],
   "source": [
    "y = np.array([20,30,15])"
   ]
  },
  {
   "cell_type": "code",
   "execution_count": 27,
   "id": "f1efa8be",
   "metadata": {},
   "outputs": [
    {
     "data": {
      "text/plain": [
       "array([1900, 2640, 1430])"
      ]
     },
     "execution_count": 27,
     "metadata": {},
     "output_type": "execute_result"
    }
   ],
   "source": [
    "np.dot(y,X)"
   ]
  },
  {
   "cell_type": "code",
   "execution_count": 34,
   "id": "e81031da",
   "metadata": {},
   "outputs": [
    {
     "data": {
      "text/plain": [
       "array([2640])"
      ]
     },
     "execution_count": 34,
     "metadata": {},
     "output_type": "execute_result"
    }
   ],
   "source": [
    "np.array([60,13,70])@np.array([[20,30,15]]).T"
   ]
  },
  {
   "cell_type": "code",
   "execution_count": null,
   "id": "4247f6d0",
   "metadata": {},
   "outputs": [],
   "source": []
  },
  {
   "cell_type": "code",
   "execution_count": null,
   "id": "1bcf4f2d",
   "metadata": {},
   "outputs": [],
   "source": []
  },
  {
   "cell_type": "code",
   "execution_count": null,
   "id": "f5529fd5",
   "metadata": {},
   "outputs": [],
   "source": []
  },
  {
   "cell_type": "code",
   "execution_count": null,
   "id": "e7454495",
   "metadata": {},
   "outputs": [],
   "source": []
  },
  {
   "cell_type": "code",
   "execution_count": null,
   "id": "168d4c26",
   "metadata": {},
   "outputs": [],
   "source": []
  }
 ],
 "metadata": {
  "kernelspec": {
   "display_name": "Python 3",
   "language": "python",
   "name": "python3"
  },
  "language_info": {
   "codemirror_mode": {
    "name": "ipython",
    "version": 3
   },
   "file_extension": ".py",
   "mimetype": "text/x-python",
   "name": "python",
   "nbconvert_exporter": "python",
   "pygments_lexer": "ipython3",
   "version": "3.9.6"
  }
 },
 "nbformat": 4,
 "nbformat_minor": 5
}
