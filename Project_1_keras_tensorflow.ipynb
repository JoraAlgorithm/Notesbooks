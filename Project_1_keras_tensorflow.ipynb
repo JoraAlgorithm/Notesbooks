{
 "cells": [
  {
   "cell_type": "code",
   "execution_count": 227,
   "id": "7e47e348",
   "metadata": {},
   "outputs": [],
   "source": [
    "import tensorflow as tf\n",
    "from tensorflow import keras\n",
    "import matplotlib.pyplot as plt\n",
    "%matplotlib inline\n",
    "import numpy as np"
   ]
  },
  {
   "cell_type": "code",
   "execution_count": null,
   "id": "6465bfae",
   "metadata": {},
   "outputs": [],
   "source": []
  },
  {
   "cell_type": "code",
   "execution_count": 228,
   "id": "ef2edb33",
   "metadata": {},
   "outputs": [],
   "source": [
    "(x_train, y_train), (x_test, y_test)= keras.datasets.mnist.load_data()"
   ]
  },
  {
   "cell_type": "code",
   "execution_count": 229,
   "id": "f9df41b3",
   "metadata": {},
   "outputs": [
    {
     "name": "stdout",
     "output_type": "stream",
     "text": [
      "Size of Training sample is -  60000\n",
      "Size of Test sample is -  10000\n"
     ]
    }
   ],
   "source": [
    "print(\"Size of Training sample is - \",len(x_train))\n",
    "print(\"Size of Test sample is - \",len(x_test))"
   ]
  },
  {
   "cell_type": "code",
   "execution_count": 230,
   "id": "bf1cd337",
   "metadata": {},
   "outputs": [
    {
     "data": {
      "text/plain": [
       "(60000, 28, 28)"
      ]
     },
     "execution_count": 230,
     "metadata": {},
     "output_type": "execute_result"
    }
   ],
   "source": [
    "x_train.shape"
   ]
  },
  {
   "cell_type": "code",
   "execution_count": 231,
   "id": "897d0edc",
   "metadata": {},
   "outputs": [
    {
     "name": "stdout",
     "output_type": "stream",
     "text": [
      "shape of sample is -  (60000, 28, 28)\n"
     ]
    }
   ],
   "source": [
    "print(\"shape of sample is - \",x_train.shape)"
   ]
  },
  {
   "cell_type": "code",
   "execution_count": 232,
   "id": "6e667e9a",
   "metadata": {},
   "outputs": [
    {
     "name": "stdout",
     "output_type": "stream",
     "text": [
      "label 6\n"
     ]
    },
    {
     "data": {
      "image/png": "[encoded data removed]",
      "text/plain": [
       "<Figure size 288x288 with 1 Axes>"
      ]
     },
     "metadata": {
      "needs_background": "light"
     },
     "output_type": "display_data"
    }
   ],
   "source": [
    "plt.matshow(x_train[13])\n",
    "print(\"label\",y_train[13])"
   ]
  },
  {
   "cell_type": "code",
   "execution_count": null,
   "id": "405b9a9c",
   "metadata": {},
   "outputs": [],
   "source": []
  },
  {
   "cell_type": "markdown",
   "id": "cbb9bfb7",
   "metadata": {},
   "source": [
    "# Flattened"
   ]
  },
  {
   "cell_type": "code",
   "execution_count": 233,
   "id": "c903bd68",
   "metadata": {},
   "outputs": [],
   "source": [
    "x_train_flattened = x_train.reshape(len(x_train),28*28 )\n",
    "x_test_flattened = x_test.reshape(len(x_test),28*28 )\n"
   ]
  },
  {
   "cell_type": "code",
   "execution_count": 234,
   "id": "cabe8726",
   "metadata": {},
   "outputs": [
    {
     "data": {
      "text/plain": [
       "(10000, 784)"
      ]
     },
     "execution_count": 234,
     "metadata": {},
     "output_type": "execute_result"
    }
   ],
   "source": [
    "x_train_flattened.shape\n",
    "x_test_flattened.shape"
   ]
  },
  {
   "cell_type": "code",
   "execution_count": null,
   "id": "d7013e1e",
   "metadata": {},
   "outputs": [],
   "source": []
  },
  {
   "cell_type": "code",
   "execution_count": 247,
   "id": "c5f40069",
   "metadata": {},
   "outputs": [
    {
     "name": "stdout",
     "output_type": "stream",
     "text": [
      "Epoch 1/5\n",
      "1875/1875 [==============================] - 1s 291us/step - loss: 9.7550 - accuracy: 0.8382\n",
      "Epoch 2/5\n",
      "1875/1875 [==============================] - 1s 289us/step - loss: 6.1183 - accuracy: 0.8782\n",
      "Epoch 3/5\n",
      "1875/1875 [==============================] - 1s 295us/step - loss: 5.7890 - accuracy: 0.8823\n",
      "Epoch 4/5\n",
      "1875/1875 [==============================] - 1s 295us/step - loss: 5.4732 - accuracy: 0.8857\n",
      "Epoch 5/5\n",
      "1875/1875 [==============================] - 1s 297us/step - loss: 5.3936 - accuracy: 0.8874\n"
     ]
    },
    {
     "data": {
      "text/plain": [
       "<keras.callbacks.History at 0x294b4ac40>"
      ]
     },
     "execution_count": 247,
     "metadata": {},
     "output_type": "execute_result"
    }
   ],
   "source": [
    "model = keras.Sequential([\n",
    "        keras.layers.Dense(10,input_shape=(784,),activation='sigmoid' )\n",
    "    ])\n",
    "\n",
    "model.compile(\n",
    "optimizer = 'adam',\n",
    "loss = 'sparse_categorical_crossentropy',\n",
    "metrics = 'accuracy'\n",
    ")\n",
    "\n",
    "model.fit(x_train_flattened,y_train,epochs=5)\n"
   ]
  },
  {
   "cell_type": "code",
   "execution_count": null,
   "id": "a67a310c",
   "metadata": {},
   "outputs": [],
   "source": []
  },
  {
   "cell_type": "code",
   "execution_count": 236,
   "id": "5a2452ce",
   "metadata": {
    "scrolled": true
   },
   "outputs": [
    {
     "name": "stdout",
     "output_type": "stream",
     "text": [
      "1875/1875 [==============================] - 0s 220us/step - loss: 4.8661 - accuracy: 0.8932\n"
     ]
    },
    {
     "data": {
      "text/plain": [
       "[4.866141319274902, 0.8932499885559082]"
      ]
     },
     "execution_count": 236,
     "metadata": {},
     "output_type": "execute_result"
    }
   ],
   "source": [
    "model.evaluate(x_train_flattened,y_train)"
   ]
  },
  {
   "cell_type": "code",
   "execution_count": 237,
   "id": "21ea92b3",
   "metadata": {},
   "outputs": [
    {
     "name": "stdout",
     "output_type": "stream",
     "text": [
      "313/313 [==============================] - 0s 344us/step - loss: 6.0698 - accuracy: 0.8820\n"
     ]
    },
    {
     "data": {
      "text/plain": [
       "[6.0697712898254395, 0.8820000290870667]"
      ]
     },
     "execution_count": 237,
     "metadata": {},
     "output_type": "execute_result"
    }
   ],
   "source": [
    "model.evaluate(x_test_flattened,y_test)"
   ]
  },
  {
   "cell_type": "code",
   "execution_count": null,
   "id": "36914296",
   "metadata": {},
   "outputs": [],
   "source": []
  },
  {
   "cell_type": "code",
   "execution_count": 238,
   "id": "6b968b2a",
   "metadata": {},
   "outputs": [],
   "source": [
    "test_predited=model.predict(x_test_flattened)\n",
    "test_predited=[ np.argmax(i) for i in test_predited]"
   ]
  },
  {
   "cell_type": "code",
   "execution_count": null,
   "id": "363e4be8",
   "metadata": {},
   "outputs": [],
   "source": []
  },
  {
   "cell_type": "code",
   "execution_count": null,
   "id": "2e3f1a11",
   "metadata": {},
   "outputs": [],
   "source": []
  },
  {
   "cell_type": "code",
   "execution_count": 239,
   "id": "c897f77d",
   "metadata": {},
   "outputs": [
    {
     "data": {
      "text/plain": [
       "<AxesSubplot:>"
      ]
     },
     "execution_count": 239,
     "metadata": {},
     "output_type": "execute_result"
    },
    {
     "data": {
      "image/png": "[encoded data removed]",
      "text/plain": [
       "<Figure size 720x720 with 2 Axes>"
      ]
     },
     "metadata": {
      "needs_background": "light"
     },
     "output_type": "display_data"
    }
   ],
   "source": [
    "cm=tf.math.confusion_matrix(labels=y_test,predictions=all_predition)\n",
    "\n",
    "import seaborn as sn\n",
    "\n",
    "plt.figure(figsize=(10,10))\n",
    "sn.heatmap(cm,fmt='d',annot=True,cmap='Blues')\n"
   ]
  },
  {
   "cell_type": "code",
   "execution_count": 240,
   "id": "af8e7de2",
   "metadata": {},
   "outputs": [
    {
     "name": "stdout",
     "output_type": "stream",
     "text": [
      "Accuary 0.4055\n"
     ]
    }
   ],
   "source": [
    "print(\"Accuary\",Counter(test_predited==y_test)[True]/len(y_test))"
   ]
  },
  {
   "cell_type": "code",
   "execution_count": null,
   "id": "55541a02",
   "metadata": {},
   "outputs": [],
   "source": []
  },
  {
   "cell_type": "code",
   "execution_count": 241,
   "id": "1b5829db",
   "metadata": {
    "scrolled": true
   },
   "outputs": [
    {
     "name": "stdout",
     "output_type": "stream",
     "text": [
      "Epoch 1/10\n",
      "1875/1875 [==============================] - 1s 472us/step - loss: 0.5642 - accuracy: 0.84650s - loss: 0.7\n",
      "Epoch 2/10\n",
      "1875/1875 [==============================] - 1s 468us/step - loss: 0.3661 - accuracy: 0.8953\n",
      "Epoch 3/10\n",
      "1875/1875 [==============================] - 1s 472us/step - loss: 0.3395 - accuracy: 0.9000\n",
      "Epoch 4/10\n",
      "1875/1875 [==============================] - 1s 477us/step - loss: 0.3118 - accuracy: 0.9073\n",
      "Epoch 5/10\n",
      "1875/1875 [==============================] - 1s 473us/step - loss: 0.2959 - accuracy: 0.9118\n",
      "Epoch 6/10\n",
      "1875/1875 [==============================] - 1s 475us/step - loss: 0.2799 - accuracy: 0.9161\n",
      "Epoch 7/10\n",
      "1875/1875 [==============================] - 1s 470us/step - loss: 0.2682 - accuracy: 0.9204\n",
      "Epoch 8/10\n",
      "1875/1875 [==============================] - 1s 481us/step - loss: 0.2684 - accuracy: 0.9184\n",
      "Epoch 9/10\n",
      "1875/1875 [==============================] - 1s 472us/step - loss: 0.2619 - accuracy: 0.9193\n",
      "Epoch 10/10\n",
      "1875/1875 [==============================] - 1s 486us/step - loss: 0.2577 - accuracy: 0.9224\n"
     ]
    },
    {
     "data": {
      "text/plain": [
       "<keras.callbacks.History at 0x1748b6760>"
      ]
     },
     "execution_count": 241,
     "metadata": {},
     "output_type": "execute_result"
    }
   ],
   "source": [
    "model = keras.Sequential([\n",
    "        keras.layers.Flatten(input_shape=(28,28)),\n",
    "        keras.layers.Dense(100,input_shape=(784,),activation='sigmoid' ),\n",
    "        keras.layers.Dense(10,activation='sigmoid' )\n",
    "    ])\n",
    "\n",
    "model.compile(\n",
    "optimizer = 'Adam',\n",
    "loss = 'sparse_categorical_crossentropy',\n",
    "metrics = 'accuracy'\n",
    ")\n",
    "\n",
    "model.fit(x_train,y_train,epochs=10)\n"
   ]
  },
  {
   "cell_type": "code",
   "execution_count": 242,
   "id": "5fb4c19f",
   "metadata": {},
   "outputs": [
    {
     "name": "stdout",
     "output_type": "stream",
     "text": [
      "WARNING:tensorflow:Model was constructed with shape (None, 28, 28) for input KerasTensor(type_spec=TensorSpec(shape=(None, 28, 28), dtype=tf.float32, name='flatten_7_input'), name='flatten_7_input', description=\"created by layer 'flatten_7_input'\"), but it was called on an input with incompatible shape (None, 784).\n"
     ]
    }
   ],
   "source": [
    "test_predited=model.predict(x_test_flattened)\n",
    "test_predited=[ np.argmax(i) for i in test_predited]"
   ]
  },
  {
   "cell_type": "code",
   "execution_count": 243,
   "id": "ba6e391f",
   "metadata": {},
   "outputs": [
    {
     "data": {
      "text/plain": [
       "<AxesSubplot:>"
      ]
     },
     "execution_count": 243,
     "metadata": {},
     "output_type": "execute_result"
    },
    {
     "data": {
      "image/png": "[encoded data removed]",
      "text/plain": [
       "<Figure size 720x720 with 2 Axes>"
      ]
     },
     "metadata": {
      "needs_background": "light"
     },
     "output_type": "display_data"
    }
   ],
   "source": [
    "cm=tf.math.confusion_matrix(labels=y_test,predictions=test_predited)\n",
    "\n",
    "import seaborn as sn\n",
    "\n",
    "plt.figure(figsize=(10,10))\n",
    "sn.heatmap(cm,fmt='d',annot=True,cmap='Blues')\n"
   ]
  },
  {
   "cell_type": "code",
   "execution_count": 244,
   "id": "7333cf66",
   "metadata": {},
   "outputs": [
    {
     "name": "stdout",
     "output_type": "stream",
     "text": [
      "1875/1875 [==============================] - 1s 282us/step - loss: 0.2499 - accuracy: 0.9234\n"
     ]
    },
    {
     "data": {
      "text/plain": [
       "[0.24989581108093262, 0.9233999848365784]"
      ]
     },
     "execution_count": 244,
     "metadata": {},
     "output_type": "execute_result"
    }
   ],
   "source": [
    "model.evaluate(x_train,y_train)"
   ]
  },
  {
   "cell_type": "code",
   "execution_count": 245,
   "id": "222cc703",
   "metadata": {},
   "outputs": [
    {
     "name": "stdout",
     "output_type": "stream",
     "text": [
      "Accuary 0.9229\n"
     ]
    }
   ],
   "source": [
    "print(\"Accuary\",Counter(test_predited==y_test)[True]/len(y_test))"
   ]
  },
  {
   "cell_type": "code",
   "execution_count": 212,
   "id": "2051e8fe",
   "metadata": {},
   "outputs": [],
   "source": [
    "# .............................\n",
    "# sigmod both activation\n",
    "# optimizer adam\n",
    "# Accuary 0.835\n",
    "# 10 epoch\n",
    "\n",
    "# Result fast and efficient\n",
    "\n",
    "\n",
    "# .............................\n",
    "# leaky_relu both\n",
    "#  optimizer adam\n",
    "# accuray0.01\n",
    "# result not converging to local min\n",
    "\n",
    "\n",
    "# .............................\n",
    "# leaky_relu both\n",
    "#  optimizer RMSprop\n",
    "# accuray0.45\n",
    "# result not converging to local min\n",
    "\n",
    "# .................\n",
    "# leaky_relu both \n",
    "#  optimizer Adadelta\n",
    "# epoch 113\n",
    "# accuray0.15\n",
    "# result not converging to local min\n",
    " \n",
    "\n",
    "\n",
    "\n",
    "# Result \n",
    "# 1-if activation function is right we reach local min easly\n",
    "#  in few epoch only or else we will not\n",
    "# 2- correct loss function is also very important it help to easly reach local minima\n",
    "# metrics -  have more tmany parameter we shoudl binary accuray categoricalaccuracy etc\n",
    "# 3- flatten layer is used to flatten auto\n",
    "\n",
    "\n",
    "\n"
   ]
  },
  {
   "cell_type": "code",
   "execution_count": null,
   "id": "3e870ecf",
   "metadata": {},
   "outputs": [],
   "source": [
    "def get_ears_from_photo():\n",
    "    math_formula\n",
    "    return "
   ]
  },
  {
   "cell_type": "code",
   "execution_count": 226,
   "id": "630a55b0",
   "metadata": {},
   "outputs": [],
   "source": [
    "#  Classfical\n",
    "\n",
    "    # Feature engg\n",
    "    \n",
    "    # eign face\n",
    "\n",
    "# logisitic \n",
    "# SVM\n",
    "# CRT Descion tree\n"
   ]
  },
  {
   "cell_type": "code",
   "execution_count": null,
   "id": "e2df8a82",
   "metadata": {},
   "outputs": [],
   "source": [
    "dataframe\n",
    "ears,ears,nose, label\n",
    "                female\n",
    "                male"
   ]
  },
  {
   "cell_type": "code",
   "execution_count": null,
   "id": "133fe9e4",
   "metadata": {},
   "outputs": [],
   "source": [
    "dataframe\n",
    "dates,last_day  ,holiday\n",
    " 1/may      20    yes\n",
    " 2/may      19    no"
   ]
  },
  {
   "cell_type": "code",
   "execution_count": null,
   "id": "3c14ee64",
   "metadata": {},
   "outputs": [],
   "source": [
    "20 may"
   ]
  },
  {
   "cell_type": "code",
   "execution_count": null,
   "id": "5f18fda4",
   "metadata": {},
   "outputs": [],
   "source": []
  },
  {
   "cell_type": "code",
   "execution_count": null,
   "id": "d6a9edd4",
   "metadata": {},
   "outputs": [],
   "source": []
  },
  {
   "cell_type": "code",
   "execution_count": null,
   "id": "f06a34ca",
   "metadata": {},
   "outputs": [],
   "source": []
  }
 ],
 "metadata": {
  "kernelspec": {
   "display_name": "Python 3 (ipykernel)",
   "language": "python",
   "name": "python3"
  },
  "language_info": {
   "codemirror_mode": {
    "name": "ipython",
    "version": 3
   },
   "file_extension": ".py",
   "mimetype": "text/x-python",
   "name": "python",
   "nbconvert_exporter": "python",
   "pygments_lexer": "ipython3",
   "version": "3.9.7"
  }
 },
 "nbformat": 4,
 "nbformat_minor": 5
}
